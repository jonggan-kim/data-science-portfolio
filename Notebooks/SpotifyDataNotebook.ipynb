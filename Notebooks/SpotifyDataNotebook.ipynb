{
 "cells": [
  {
   "cell_type": "markdown",
   "metadata": {},
   "source": [
    "# Collecting Data from the Spotify Web API using Spotipy\n",
    "\n",
    "### About Spotipy:\n",
    "\n",
    "From the [official Spotipy docs](https://spotipy.readthedocs.io/en/latest/): \"Spotipy is a lightweight Python library for the Spotify Web API. With Spotipy you get full access to all of the music data provided by the Spotify platform.\"\n",
    "\n",
    "\n",
    "### About using the Spotify Web API:\n",
    "\n",
    "Spotify offers a number of [API endpoints](https://beta.developer.spotify.com/documentation/web-api/reference/) to access the Spotify data. In this notebook, I used the [search endpoint](https://beta.developer.spotify.com/documentation/web-api/reference/search/search/) to get the track IDs and the [audio features endpoint](https://beta.developer.spotify.com/documentation/web-api/reference/tracks/get-several-audio-features/) to get the corresponding audio features. \n",
    "The data was collected on April 23rd 2018.\n",
    "\n",
    "\n",
    "### Goal of this notebook:\n",
    "\n",
    "The goal is to collect audio features data for tracks from the [official Spotify Web API](https://beta.developer.spotify.com/documentation/web-api/) in order to use it for further analysis/ machine learning which will be part of another notebook."
   ]
  },
  {
   "cell_type": "markdown",
   "metadata": {},
   "source": [
    "## Importing libraries\n",
    "\n",
    "Disclaimer: installation/ authorization part for setting up the Spotipy library is not in the scope of this notebook. Detailed information about the procedure is available in the [official docs](https://spotipy.readthedocs.io/en/latest/#installation)."
   ]
  },
  {
   "cell_type": "code",
   "execution_count": 1,
   "metadata": {},
   "outputs": [],
   "source": [
    "import pandas as pd\n",
    "import numpy as np\n",
    "import matplotlib.pyplot as plt\n",
    "\n",
    "import spotipy\n",
    "from spotipy.oauth2 import SpotifyClientCredentials\n",
    "import spotipy.util as util\n",
    "\n",
    "cid =\"xy\" \n",
    "secret = \"xy\"\n",
    "username = \"xy\"\n",
    "redirect_uri='xy'\n",
    "\n",
    "client_credentials_manager = SpotifyClientCredentials(client_id=cid, client_secret=secret) \n",
    "sp = spotipy.Spotify(client_credentials_manager=client_credentials_manager)\n",
    "scope = 'user-library-read playlist-read-private'\n",
    "token = util.prompt_for_user_token(username, scope, client_id=cid,client_secret=secret,redirect_uri=redirect_uri)"
   ]
  },
  {
   "cell_type": "markdown",
   "metadata": {},
   "source": [
    "## Step 1: track IDs\n",
    "\n",
    "The [search endpoint](https://beta.developer.spotify.com/documentation/web-api/reference/search/search/) used in this step had a few limitations:\n",
    "\n",
    "- limit: a maximum of 50 results can be returned per query\n",
    "- offset: this is the index of the first result to return. Maximum offset is 100.000.\n",
    "\n",
    "My solution: using a nested for loop, I was increasing the offset by 50 until the maxium offset was reached. The inner for loop did the actual query while appending all the returned results to appropriate lists which I used afterwards to create my dataframe."
   ]
  },
  {
   "cell_type": "code",
   "execution_count": 2,
   "metadata": {},
   "outputs": [
    {
     "name": "stdout",
     "output_type": "stream",
     "text": [
      "Time to run this code (in seconds): 1726.960964133963\n"
     ]
    }
   ],
   "source": [
    "# timeit library to measure the time needed to run this code\n",
    "\n",
    "import timeit\n",
    "start = timeit.default_timer()\n",
    "\n",
    "# creating empty lists where the results are going to be stored\n",
    "\n",
    "artist_name = []\n",
    "track_name = []\n",
    "popularity = []\n",
    "track_id = []\n",
    "\n",
    "for i in range(0,100000,50):\n",
    "    track_results = sp.search(q='year:2018', type='track', limit=50,offset=i)\n",
    "    for i, t in enumerate(track_results['tracks']['items']):\n",
    "        artist_name.append(t['artists'][0]['name'])\n",
    "        track_name.append(t['name'])\n",
    "        track_id.append(t['id'])\n",
    "        popularity.append(t['popularity'])\n",
    "      \n",
    "\n",
    "stop = timeit.default_timer()\n",
    "print ('Time to run this code (in seconds):', stop - start)"
   ]
  },
  {
   "cell_type": "markdown",
   "metadata": {},
   "source": [
    "Almost half an hour!\n",
    "\n",
    "A quick check for the track_id list:"
   ]
  },
  {
   "cell_type": "code",
   "execution_count": 3,
   "metadata": {},
   "outputs": [
    {
     "name": "stdout",
     "output_type": "stream",
     "text": [
      "number of elements in the track_id list: 100000\n"
     ]
    }
   ],
   "source": [
    "print('number of elements in the track_id list:', len(track_id))"
   ]
  },
  {
   "cell_type": "markdown",
   "metadata": {},
   "source": [
    "Looks good. I will load the lists in a dataframe now and do some basic analysis."
   ]
  },
  {
   "cell_type": "code",
   "execution_count": 4,
   "metadata": {},
   "outputs": [
    {
     "data": {
      "text/html": [
       "<div>\n",
       "<style scoped>\n",
       "    .dataframe tbody tr th:only-of-type {\n",
       "        vertical-align: middle;\n",
       "    }\n",
       "\n",
       "    .dataframe tbody tr th {\n",
       "        vertical-align: top;\n",
       "    }\n",
       "\n",
       "    .dataframe thead th {\n",
       "        text-align: right;\n",
       "    }\n",
       "</style>\n",
       "<table border=\"1\" class=\"dataframe\">\n",
       "  <thead>\n",
       "    <tr style=\"text-align: right;\">\n",
       "      <th></th>\n",
       "      <th>artist_name</th>\n",
       "      <th>popularity</th>\n",
       "      <th>track_id</th>\n",
       "      <th>track_name</th>\n",
       "    </tr>\n",
       "  </thead>\n",
       "  <tbody>\n",
       "    <tr>\n",
       "      <th>0</th>\n",
       "      <td>Drake</td>\n",
       "      <td>97</td>\n",
       "      <td>2XW4DbS6NddZxRPm5rMCeY</td>\n",
       "      <td>God's Plan</td>\n",
       "    </tr>\n",
       "    <tr>\n",
       "      <th>1</th>\n",
       "      <td>Drake</td>\n",
       "      <td>99</td>\n",
       "      <td>1cTZMwcBJT0Ka3UJPXOeeN</td>\n",
       "      <td>Nice For What</td>\n",
       "    </tr>\n",
       "    <tr>\n",
       "      <th>2</th>\n",
       "      <td>Post Malone</td>\n",
       "      <td>95</td>\n",
       "      <td>65NwOZqoXny4JxqAPlfxRF</td>\n",
       "      <td>Psycho (feat. Ty Dolla $ign)</td>\n",
       "    </tr>\n",
       "    <tr>\n",
       "      <th>3</th>\n",
       "      <td>BlocBoy JB</td>\n",
       "      <td>98</td>\n",
       "      <td>4qKcDkK6siZ7Jp1Jb4m0aL</td>\n",
       "      <td>Look Alive (feat. Drake)</td>\n",
       "    </tr>\n",
       "    <tr>\n",
       "      <th>4</th>\n",
       "      <td>XXXTENTACION</td>\n",
       "      <td>97</td>\n",
       "      <td>3ee8Jmje8o58CHK66QrVC2</td>\n",
       "      <td>SAD!</td>\n",
       "    </tr>\n",
       "  </tbody>\n",
       "</table>\n",
       "</div>"
      ],
      "text/plain": [
       "    artist_name  popularity                track_id  \\\n",
       "0         Drake          97  2XW4DbS6NddZxRPm5rMCeY   \n",
       "1         Drake          99  1cTZMwcBJT0Ka3UJPXOeeN   \n",
       "2   Post Malone          95  65NwOZqoXny4JxqAPlfxRF   \n",
       "3    BlocBoy JB          98  4qKcDkK6siZ7Jp1Jb4m0aL   \n",
       "4  XXXTENTACION          97  3ee8Jmje8o58CHK66QrVC2   \n",
       "\n",
       "                     track_name  \n",
       "0                    God's Plan  \n",
       "1                 Nice For What  \n",
       "2  Psycho (feat. Ty Dolla $ign)  \n",
       "3      Look Alive (feat. Drake)  \n",
       "4                          SAD!  "
      ]
     },
     "execution_count": 4,
     "metadata": {},
     "output_type": "execute_result"
    }
   ],
   "source": [
    "df_tracks = pd.DataFrame({'artist_name':artist_name,'track_name':track_name,'track_id':track_id,'popularity':popularity})\n",
    "df_tracks.head()"
   ]
  },
  {
   "cell_type": "code",
   "execution_count": 5,
   "metadata": {},
   "outputs": [
    {
     "data": {
      "text/plain": [
       "(100000, 4)"
      ]
     },
     "execution_count": 5,
     "metadata": {},
     "output_type": "execute_result"
    }
   ],
   "source": [
    "df_tracks.shape"
   ]
  },
  {
   "cell_type": "code",
   "execution_count": 6,
   "metadata": {},
   "outputs": [
    {
     "name": "stdout",
     "output_type": "stream",
     "text": [
      "<class 'pandas.core.frame.DataFrame'>\n",
      "RangeIndex: 100000 entries, 0 to 99999\n",
      "Data columns (total 4 columns):\n",
      "artist_name    100000 non-null object\n",
      "popularity     100000 non-null int64\n",
      "track_id       100000 non-null object\n",
      "track_name     100000 non-null object\n",
      "dtypes: int64(1), object(3)\n",
      "memory usage: 3.1+ MB\n"
     ]
    }
   ],
   "source": [
    "df_tracks.info()"
   ]
  },
  {
   "cell_type": "markdown",
   "metadata": {},
   "source": [
    "Sometimes, the same track is returned under different track IDs (single, as part of an album etc.).\n",
    "\n",
    "This needs to be checked for and corrected if needed."
   ]
  },
  {
   "cell_type": "code",
   "execution_count": 7,
   "metadata": {},
   "outputs": [
    {
     "data": {
      "text/plain": [
       "artist_name             track_name                     \n",
       "!!!                     Happiness Is A Warm Yes (It Is)    2\n",
       "$tupid Young            Murder Scene (feat. Lil Durk)      2\n",
       "                        Pray 4 Me (feat. KB)               2\n",
       "03 Greedo               If I Wasn't Rappin'                2\n",
       "                        Pop It                             2\n",
       "                        Substance                          2\n",
       "070 Shake               Lost In Love                       2\n",
       "                        Somebody Like Me                   2\n",
       "                        Stranger                           2\n",
       "12th Street Pharmacist  Suicide                            2\n",
       "16yrold                 Young Scooter                      2\n",
       "2 Chainz                LAND OF THE FREAKS                 2\n",
       "                        OK BITCH                           2\n",
       "                        PROUD                              2\n",
       "                        Proud                              2\n",
       "3LAU                    On My Own                          2\n",
       "4-TRAY                  Cell Phone Blue                    2\n",
       "44 Roc                  Luxury Tax                         2\n",
       "4Keus                   C'est Dieu qui donne               2\n",
       "                        Extinction des feux                2\n",
       "5 Seconds of Summer     Want You Back                      2\n",
       "50 Cent                 Crazy (feat. PnB Rock)             2\n",
       "6LACK                   Cutting Ties                       2\n",
       "6ix9ine                 GUMMO - Remix                      2\n",
       "                        KEKE                               2\n",
       "88GLAM                  12                                 2\n",
       "                        Baby Bro                           2\n",
       "                        Bali                               2\n",
       "                        Bali - Remix                       2\n",
       "                        Big Tymers                         2\n",
       "                                                          ..\n",
       "isaac gracie            hollow crown                       2\n",
       "                        last words                         3\n",
       "                        reverie                            2\n",
       "                        running on empty                   2\n",
       "                        silhouettes of you                 2\n",
       "                        telescope                          2\n",
       "                        terrified                          2\n",
       "                        that was then                      3\n",
       "                        the death of you & i               2\n",
       "                        when you go                        2\n",
       "jeremy messersmith      Purple Hearts                      2\n",
       "klondike blonde         Drip                               2\n",
       "lojii                   lo in the jungle                   2\n",
       "m-flo                   Luvotomy - TeddyLoid Remix         2\n",
       "mt. fujitive            trees                              2\n",
       "                        turismo                            2\n",
       "phem                    blinders                           2\n",
       "tofubeats               ふめつのこころ                            2\n",
       "twiddy                  Live from the Bowling Alley        2\n",
       "tyDi                    Gold Blooded                       2\n",
       "                        You Don't Love Me                  2\n",
       "µ-Ziq                   Inclement                          2\n",
       "Ängie                   Dope                               2\n",
       "                        Here For My Habits                 2\n",
       "Мот                     Пролетая над коттеджами Барвихи    2\n",
       "Скруджи                 Монтана                            2\n",
       "Эллаи                   Помню твоё тело                    2\n",
       "張杰                      如歌                                 2\n",
       "緑                       Part Deux                          2\n",
       "迪麗熱巴                    浴火成詩                               2\n",
       "Length: 4267, dtype: int64"
      ]
     },
     "execution_count": 7,
     "metadata": {},
     "output_type": "execute_result"
    }
   ],
   "source": [
    "# grouping the entries by artist_name and track_name and checking for duplicates\n",
    "\n",
    "grouped = df_tracks.groupby(['artist_name','track_name'], as_index=True).size()\n",
    "grouped[grouped > 1]"
   ]
  },
  {
   "cell_type": "markdown",
   "metadata": {},
   "source": [
    "There are 4267 duplicate entries which will be dropped in the next cell:"
   ]
  },
  {
   "cell_type": "code",
   "execution_count": 8,
   "metadata": {},
   "outputs": [],
   "source": [
    "df_tracks.drop_duplicates(subset=['artist_name','track_name'], inplace=True)"
   ]
  },
  {
   "cell_type": "code",
   "execution_count": 9,
   "metadata": {},
   "outputs": [
    {
     "data": {
      "text/plain": [
       "Series([], dtype: int64)"
      ]
     },
     "execution_count": 9,
     "metadata": {},
     "output_type": "execute_result"
    }
   ],
   "source": [
    "# doing the same grouping as before to verify the solution\n",
    "\n",
    "grouped_after_dropping = df_tracks.groupby(['artist_name','track_name'], as_index=True).size()\n",
    "grouped_after_dropping[grouped_after_dropping > 1]"
   ]
  },
  {
   "cell_type": "markdown",
   "metadata": {},
   "source": [
    "This time the results are empty. Another way of checking this:"
   ]
  },
  {
   "cell_type": "code",
   "execution_count": 10,
   "metadata": {},
   "outputs": [
    {
     "data": {
      "text/plain": [
       "artist_name    0\n",
       "popularity     0\n",
       "track_id       0\n",
       "track_name     0\n",
       "dtype: int64"
      ]
     },
     "execution_count": 10,
     "metadata": {},
     "output_type": "execute_result"
    }
   ],
   "source": [
    "df_tracks[df_tracks.duplicated(subset=['artist_name','track_name'],keep=False)].count()"
   ]
  },
  {
   "cell_type": "markdown",
   "metadata": {},
   "source": [
    "Checking how many tracks are left now:"
   ]
  },
  {
   "cell_type": "code",
   "execution_count": 11,
   "metadata": {},
   "outputs": [
    {
     "data": {
      "text/plain": [
       "(94515, 4)"
      ]
     },
     "execution_count": 11,
     "metadata": {},
     "output_type": "execute_result"
    }
   ],
   "source": [
    "df_tracks.shape"
   ]
  },
  {
   "cell_type": "markdown",
   "metadata": {},
   "source": [
    "## Step 2: audio features\n",
    "\n",
    "With the [audio features endpoint](https://beta.developer.spotify.com/documentation/web-api/reference/tracks/get-several-audio-features/) I will now get the audio features data for my 94515 track IDs.\n",
    "\n",
    "The limitation for this endpoint was that a maximum of 100 track IDs can be submitted per query.\n",
    "\n",
    "Again, I used a nested for loop. This time the outer loop was pulling track IDs in batches of size 100 and the inner for loop was doing the query and appending the results to the rows list.\n",
    "\n",
    "Additionaly, I had to implement a check when a track ID didn't return any audio features (i.e. None was returned) as this was causing issues."
   ]
  },
  {
   "cell_type": "code",
   "execution_count": 12,
   "metadata": {},
   "outputs": [
    {
     "name": "stdout",
     "output_type": "stream",
     "text": [
      "Number of tracks where no audio features were available: 825\n",
      "Time to run this code (in seconds): 269.73977800505236\n"
     ]
    }
   ],
   "source": [
    "# again measuring the time with timeit\n",
    "\n",
    "start = timeit.default_timer()\n",
    "\n",
    "# setting up the empty list, batchsize and the counter for None results\n",
    "rows = []\n",
    "batchsize = 100\n",
    "None_counter = 0\n",
    "\n",
    "for i in range(0,len(df_tracks['track_id']),batchsize):\n",
    "    batch = df_tracks['track_id'][i:i+batchsize]\n",
    "    feature_results = sp.audio_features(batch)\n",
    "    for i, t in enumerate(feature_results):\n",
    "        if t == None:\n",
    "            None_counter = None_counter + 1\n",
    "        else:\n",
    "            rows.append(t)\n",
    "            \n",
    "print('Number of tracks where no audio features were available:',None_counter)\n",
    "\n",
    "stop = timeit.default_timer()\n",
    "print ('Time to run this code (in seconds):',stop - start)"
   ]
  },
  {
   "cell_type": "markdown",
   "metadata": {},
   "source": [
    "This one was relatively fast - less than 5 minutes!\n",
    "\n",
    "825 tracks had no audio features.\n",
    "\n",
    "Checking how the rows list looks like:"
   ]
  },
  {
   "cell_type": "code",
   "execution_count": 13,
   "metadata": {},
   "outputs": [
    {
     "name": "stdout",
     "output_type": "stream",
     "text": [
      "number of elements in the track_id list: 93690\n"
     ]
    }
   ],
   "source": [
    "print('number of elements in the track_id list:', len(rows))"
   ]
  },
  {
   "cell_type": "markdown",
   "metadata": {},
   "source": [
    "Finally, I will load the audio features in a dataframe, do some basic checks and merge it with the first one:"
   ]
  },
  {
   "cell_type": "code",
   "execution_count": 14,
   "metadata": {},
   "outputs": [
    {
     "data": {
      "text/html": [
       "<div>\n",
       "<style scoped>\n",
       "    .dataframe tbody tr th:only-of-type {\n",
       "        vertical-align: middle;\n",
       "    }\n",
       "\n",
       "    .dataframe tbody tr th {\n",
       "        vertical-align: top;\n",
       "    }\n",
       "\n",
       "    .dataframe thead th {\n",
       "        text-align: right;\n",
       "    }\n",
       "</style>\n",
       "<table border=\"1\" class=\"dataframe\">\n",
       "  <thead>\n",
       "    <tr style=\"text-align: right;\">\n",
       "      <th></th>\n",
       "      <th>acousticness</th>\n",
       "      <th>analysis_url</th>\n",
       "      <th>danceability</th>\n",
       "      <th>duration_ms</th>\n",
       "      <th>energy</th>\n",
       "      <th>id</th>\n",
       "      <th>instrumentalness</th>\n",
       "      <th>key</th>\n",
       "      <th>liveness</th>\n",
       "      <th>loudness</th>\n",
       "      <th>mode</th>\n",
       "      <th>speechiness</th>\n",
       "      <th>tempo</th>\n",
       "      <th>time_signature</th>\n",
       "      <th>track_href</th>\n",
       "      <th>type</th>\n",
       "      <th>uri</th>\n",
       "      <th>valence</th>\n",
       "    </tr>\n",
       "  </thead>\n",
       "  <tbody>\n",
       "    <tr>\n",
       "      <th>0</th>\n",
       "      <td>0.02440</td>\n",
       "      <td>https://api.spotify.com/v1/audio-analysis/2XW4...</td>\n",
       "      <td>0.753</td>\n",
       "      <td>198960</td>\n",
       "      <td>0.454</td>\n",
       "      <td>2XW4DbS6NddZxRPm5rMCeY</td>\n",
       "      <td>0.000056</td>\n",
       "      <td>7</td>\n",
       "      <td>0.498</td>\n",
       "      <td>-9.488</td>\n",
       "      <td>1</td>\n",
       "      <td>0.0963</td>\n",
       "      <td>77.170</td>\n",
       "      <td>4</td>\n",
       "      <td>https://api.spotify.com/v1/tracks/2XW4DbS6NddZ...</td>\n",
       "      <td>audio_features</td>\n",
       "      <td>spotify:track:2XW4DbS6NddZxRPm5rMCeY</td>\n",
       "      <td>0.344</td>\n",
       "    </tr>\n",
       "    <tr>\n",
       "      <th>1</th>\n",
       "      <td>0.09340</td>\n",
       "      <td>https://api.spotify.com/v1/audio-analysis/1cTZ...</td>\n",
       "      <td>0.567</td>\n",
       "      <td>210926</td>\n",
       "      <td>0.913</td>\n",
       "      <td>1cTZMwcBJT0Ka3UJPXOeeN</td>\n",
       "      <td>0.000124</td>\n",
       "      <td>8</td>\n",
       "      <td>0.114</td>\n",
       "      <td>-6.471</td>\n",
       "      <td>1</td>\n",
       "      <td>0.0736</td>\n",
       "      <td>93.350</td>\n",
       "      <td>4</td>\n",
       "      <td>https://api.spotify.com/v1/tracks/1cTZMwcBJT0K...</td>\n",
       "      <td>audio_features</td>\n",
       "      <td>spotify:track:1cTZMwcBJT0Ka3UJPXOeeN</td>\n",
       "      <td>0.792</td>\n",
       "    </tr>\n",
       "    <tr>\n",
       "      <th>2</th>\n",
       "      <td>0.56600</td>\n",
       "      <td>https://api.spotify.com/v1/audio-analysis/65Nw...</td>\n",
       "      <td>0.740</td>\n",
       "      <td>220880</td>\n",
       "      <td>0.558</td>\n",
       "      <td>65NwOZqoXny4JxqAPlfxRF</td>\n",
       "      <td>0.000000</td>\n",
       "      <td>8</td>\n",
       "      <td>0.112</td>\n",
       "      <td>-8.115</td>\n",
       "      <td>1</td>\n",
       "      <td>0.1020</td>\n",
       "      <td>140.057</td>\n",
       "      <td>4</td>\n",
       "      <td>https://api.spotify.com/v1/tracks/65NwOZqoXny4...</td>\n",
       "      <td>audio_features</td>\n",
       "      <td>spotify:track:65NwOZqoXny4JxqAPlfxRF</td>\n",
       "      <td>0.421</td>\n",
       "    </tr>\n",
       "    <tr>\n",
       "      <th>3</th>\n",
       "      <td>0.00104</td>\n",
       "      <td>https://api.spotify.com/v1/audio-analysis/4qKc...</td>\n",
       "      <td>0.922</td>\n",
       "      <td>181263</td>\n",
       "      <td>0.581</td>\n",
       "      <td>4qKcDkK6siZ7Jp1Jb4m0aL</td>\n",
       "      <td>0.000059</td>\n",
       "      <td>10</td>\n",
       "      <td>0.105</td>\n",
       "      <td>-7.495</td>\n",
       "      <td>1</td>\n",
       "      <td>0.2700</td>\n",
       "      <td>140.022</td>\n",
       "      <td>4</td>\n",
       "      <td>https://api.spotify.com/v1/tracks/4qKcDkK6siZ7...</td>\n",
       "      <td>audio_features</td>\n",
       "      <td>spotify:track:4qKcDkK6siZ7Jp1Jb4m0aL</td>\n",
       "      <td>0.595</td>\n",
       "    </tr>\n",
       "    <tr>\n",
       "      <th>4</th>\n",
       "      <td>0.25800</td>\n",
       "      <td>https://api.spotify.com/v1/audio-analysis/3ee8...</td>\n",
       "      <td>0.740</td>\n",
       "      <td>166606</td>\n",
       "      <td>0.613</td>\n",
       "      <td>3ee8Jmje8o58CHK66QrVC2</td>\n",
       "      <td>0.003720</td>\n",
       "      <td>8</td>\n",
       "      <td>0.123</td>\n",
       "      <td>-4.880</td>\n",
       "      <td>1</td>\n",
       "      <td>0.1450</td>\n",
       "      <td>75.023</td>\n",
       "      <td>4</td>\n",
       "      <td>https://api.spotify.com/v1/tracks/3ee8Jmje8o58...</td>\n",
       "      <td>audio_features</td>\n",
       "      <td>spotify:track:3ee8Jmje8o58CHK66QrVC2</td>\n",
       "      <td>0.473</td>\n",
       "    </tr>\n",
       "  </tbody>\n",
       "</table>\n",
       "</div>"
      ],
      "text/plain": [
       "   acousticness                                       analysis_url  \\\n",
       "0       0.02440  https://api.spotify.com/v1/audio-analysis/2XW4...   \n",
       "1       0.09340  https://api.spotify.com/v1/audio-analysis/1cTZ...   \n",
       "2       0.56600  https://api.spotify.com/v1/audio-analysis/65Nw...   \n",
       "3       0.00104  https://api.spotify.com/v1/audio-analysis/4qKc...   \n",
       "4       0.25800  https://api.spotify.com/v1/audio-analysis/3ee8...   \n",
       "\n",
       "   danceability  duration_ms  energy                      id  \\\n",
       "0         0.753       198960   0.454  2XW4DbS6NddZxRPm5rMCeY   \n",
       "1         0.567       210926   0.913  1cTZMwcBJT0Ka3UJPXOeeN   \n",
       "2         0.740       220880   0.558  65NwOZqoXny4JxqAPlfxRF   \n",
       "3         0.922       181263   0.581  4qKcDkK6siZ7Jp1Jb4m0aL   \n",
       "4         0.740       166606   0.613  3ee8Jmje8o58CHK66QrVC2   \n",
       "\n",
       "   instrumentalness  key  liveness  loudness  mode  speechiness    tempo  \\\n",
       "0          0.000056    7     0.498    -9.488     1       0.0963   77.170   \n",
       "1          0.000124    8     0.114    -6.471     1       0.0736   93.350   \n",
       "2          0.000000    8     0.112    -8.115     1       0.1020  140.057   \n",
       "3          0.000059   10     0.105    -7.495     1       0.2700  140.022   \n",
       "4          0.003720    8     0.123    -4.880     1       0.1450   75.023   \n",
       "\n",
       "   time_signature                                         track_href  \\\n",
       "0               4  https://api.spotify.com/v1/tracks/2XW4DbS6NddZ...   \n",
       "1               4  https://api.spotify.com/v1/tracks/1cTZMwcBJT0K...   \n",
       "2               4  https://api.spotify.com/v1/tracks/65NwOZqoXny4...   \n",
       "3               4  https://api.spotify.com/v1/tracks/4qKcDkK6siZ7...   \n",
       "4               4  https://api.spotify.com/v1/tracks/3ee8Jmje8o58...   \n",
       "\n",
       "             type                                   uri  valence  \n",
       "0  audio_features  spotify:track:2XW4DbS6NddZxRPm5rMCeY    0.344  \n",
       "1  audio_features  spotify:track:1cTZMwcBJT0Ka3UJPXOeeN    0.792  \n",
       "2  audio_features  spotify:track:65NwOZqoXny4JxqAPlfxRF    0.421  \n",
       "3  audio_features  spotify:track:4qKcDkK6siZ7Jp1Jb4m0aL    0.595  \n",
       "4  audio_features  spotify:track:3ee8Jmje8o58CHK66QrVC2    0.473  "
      ]
     },
     "execution_count": 14,
     "metadata": {},
     "output_type": "execute_result"
    }
   ],
   "source": [
    "df_audio_features = pd.DataFrame.from_dict(rows,orient='columns')\n",
    "df_audio_features.head()"
   ]
  },
  {
   "cell_type": "code",
   "execution_count": 15,
   "metadata": {},
   "outputs": [
    {
     "name": "stdout",
     "output_type": "stream",
     "text": [
      "<class 'pandas.core.frame.DataFrame'>\n",
      "RangeIndex: 93690 entries, 0 to 93689\n",
      "Data columns (total 18 columns):\n",
      "acousticness        93690 non-null float64\n",
      "analysis_url        93690 non-null object\n",
      "danceability        93690 non-null float64\n",
      "duration_ms         93690 non-null int64\n",
      "energy              93690 non-null float64\n",
      "id                  93690 non-null object\n",
      "instrumentalness    93690 non-null float64\n",
      "key                 93690 non-null int64\n",
      "liveness            93690 non-null float64\n",
      "loudness            93690 non-null float64\n",
      "mode                93690 non-null int64\n",
      "speechiness         93690 non-null float64\n",
      "tempo               93690 non-null float64\n",
      "time_signature      93690 non-null int64\n",
      "track_href          93690 non-null object\n",
      "type                93690 non-null object\n",
      "uri                 93690 non-null object\n",
      "valence             93690 non-null float64\n",
      "dtypes: float64(9), int64(4), object(5)\n",
      "memory usage: 12.9+ MB\n"
     ]
    }
   ],
   "source": [
    "df_audio_features.info()"
   ]
  },
  {
   "cell_type": "markdown",
   "metadata": {},
   "source": [
    "Some columns containt URLs/URIs which are not needed for the analysis so I will drop them.\n",
    "\n",
    "Also the ID column will be renamed to track_id so that it matches the column name from the first dataframe."
   ]
  },
  {
   "cell_type": "code",
   "execution_count": 16,
   "metadata": {},
   "outputs": [],
   "source": [
    "columns_to_drop = ['analysis_url','track_href','type','uri']\n",
    "\n",
    "df_audio_features.drop(columns_to_drop, axis=1,inplace=True)"
   ]
  },
  {
   "cell_type": "code",
   "execution_count": 17,
   "metadata": {},
   "outputs": [],
   "source": [
    "df_audio_features.rename(columns={'id': 'track_id'}, inplace=True)"
   ]
  },
  {
   "cell_type": "code",
   "execution_count": 18,
   "metadata": {},
   "outputs": [
    {
     "data": {
      "text/html": [
       "<div>\n",
       "<style scoped>\n",
       "    .dataframe tbody tr th:only-of-type {\n",
       "        vertical-align: middle;\n",
       "    }\n",
       "\n",
       "    .dataframe tbody tr th {\n",
       "        vertical-align: top;\n",
       "    }\n",
       "\n",
       "    .dataframe thead th {\n",
       "        text-align: right;\n",
       "    }\n",
       "</style>\n",
       "<table border=\"1\" class=\"dataframe\">\n",
       "  <thead>\n",
       "    <tr style=\"text-align: right;\">\n",
       "      <th></th>\n",
       "      <th>acousticness</th>\n",
       "      <th>danceability</th>\n",
       "      <th>duration_ms</th>\n",
       "      <th>energy</th>\n",
       "      <th>track_id</th>\n",
       "      <th>instrumentalness</th>\n",
       "      <th>key</th>\n",
       "      <th>liveness</th>\n",
       "      <th>loudness</th>\n",
       "      <th>mode</th>\n",
       "      <th>speechiness</th>\n",
       "      <th>tempo</th>\n",
       "      <th>time_signature</th>\n",
       "      <th>valence</th>\n",
       "    </tr>\n",
       "  </thead>\n",
       "  <tbody>\n",
       "    <tr>\n",
       "      <th>0</th>\n",
       "      <td>0.02440</td>\n",
       "      <td>0.753</td>\n",
       "      <td>198960</td>\n",
       "      <td>0.454</td>\n",
       "      <td>2XW4DbS6NddZxRPm5rMCeY</td>\n",
       "      <td>0.000056</td>\n",
       "      <td>7</td>\n",
       "      <td>0.498</td>\n",
       "      <td>-9.488</td>\n",
       "      <td>1</td>\n",
       "      <td>0.0963</td>\n",
       "      <td>77.170</td>\n",
       "      <td>4</td>\n",
       "      <td>0.344</td>\n",
       "    </tr>\n",
       "    <tr>\n",
       "      <th>1</th>\n",
       "      <td>0.09340</td>\n",
       "      <td>0.567</td>\n",
       "      <td>210926</td>\n",
       "      <td>0.913</td>\n",
       "      <td>1cTZMwcBJT0Ka3UJPXOeeN</td>\n",
       "      <td>0.000124</td>\n",
       "      <td>8</td>\n",
       "      <td>0.114</td>\n",
       "      <td>-6.471</td>\n",
       "      <td>1</td>\n",
       "      <td>0.0736</td>\n",
       "      <td>93.350</td>\n",
       "      <td>4</td>\n",
       "      <td>0.792</td>\n",
       "    </tr>\n",
       "    <tr>\n",
       "      <th>2</th>\n",
       "      <td>0.56600</td>\n",
       "      <td>0.740</td>\n",
       "      <td>220880</td>\n",
       "      <td>0.558</td>\n",
       "      <td>65NwOZqoXny4JxqAPlfxRF</td>\n",
       "      <td>0.000000</td>\n",
       "      <td>8</td>\n",
       "      <td>0.112</td>\n",
       "      <td>-8.115</td>\n",
       "      <td>1</td>\n",
       "      <td>0.1020</td>\n",
       "      <td>140.057</td>\n",
       "      <td>4</td>\n",
       "      <td>0.421</td>\n",
       "    </tr>\n",
       "    <tr>\n",
       "      <th>3</th>\n",
       "      <td>0.00104</td>\n",
       "      <td>0.922</td>\n",
       "      <td>181263</td>\n",
       "      <td>0.581</td>\n",
       "      <td>4qKcDkK6siZ7Jp1Jb4m0aL</td>\n",
       "      <td>0.000059</td>\n",
       "      <td>10</td>\n",
       "      <td>0.105</td>\n",
       "      <td>-7.495</td>\n",
       "      <td>1</td>\n",
       "      <td>0.2700</td>\n",
       "      <td>140.022</td>\n",
       "      <td>4</td>\n",
       "      <td>0.595</td>\n",
       "    </tr>\n",
       "    <tr>\n",
       "      <th>4</th>\n",
       "      <td>0.25800</td>\n",
       "      <td>0.740</td>\n",
       "      <td>166606</td>\n",
       "      <td>0.613</td>\n",
       "      <td>3ee8Jmje8o58CHK66QrVC2</td>\n",
       "      <td>0.003720</td>\n",
       "      <td>8</td>\n",
       "      <td>0.123</td>\n",
       "      <td>-4.880</td>\n",
       "      <td>1</td>\n",
       "      <td>0.1450</td>\n",
       "      <td>75.023</td>\n",
       "      <td>4</td>\n",
       "      <td>0.473</td>\n",
       "    </tr>\n",
       "  </tbody>\n",
       "</table>\n",
       "</div>"
      ],
      "text/plain": [
       "   acousticness  danceability  duration_ms  energy                track_id  \\\n",
       "0       0.02440         0.753       198960   0.454  2XW4DbS6NddZxRPm5rMCeY   \n",
       "1       0.09340         0.567       210926   0.913  1cTZMwcBJT0Ka3UJPXOeeN   \n",
       "2       0.56600         0.740       220880   0.558  65NwOZqoXny4JxqAPlfxRF   \n",
       "3       0.00104         0.922       181263   0.581  4qKcDkK6siZ7Jp1Jb4m0aL   \n",
       "4       0.25800         0.740       166606   0.613  3ee8Jmje8o58CHK66QrVC2   \n",
       "\n",
       "   instrumentalness  key  liveness  loudness  mode  speechiness    tempo  \\\n",
       "0          0.000056    7     0.498    -9.488     1       0.0963   77.170   \n",
       "1          0.000124    8     0.114    -6.471     1       0.0736   93.350   \n",
       "2          0.000000    8     0.112    -8.115     1       0.1020  140.057   \n",
       "3          0.000059   10     0.105    -7.495     1       0.2700  140.022   \n",
       "4          0.003720    8     0.123    -4.880     1       0.1450   75.023   \n",
       "\n",
       "   time_signature  valence  \n",
       "0               4    0.344  \n",
       "1               4    0.792  \n",
       "2               4    0.421  \n",
       "3               4    0.595  \n",
       "4               4    0.473  "
      ]
     },
     "execution_count": 18,
     "metadata": {},
     "output_type": "execute_result"
    }
   ],
   "source": [
    "df_audio_features.head()"
   ]
  },
  {
   "cell_type": "code",
   "execution_count": 19,
   "metadata": {},
   "outputs": [
    {
     "data": {
      "text/html": [
       "<div>\n",
       "<style scoped>\n",
       "    .dataframe tbody tr th:only-of-type {\n",
       "        vertical-align: middle;\n",
       "    }\n",
       "\n",
       "    .dataframe tbody tr th {\n",
       "        vertical-align: top;\n",
       "    }\n",
       "\n",
       "    .dataframe thead th {\n",
       "        text-align: right;\n",
       "    }\n",
       "</style>\n",
       "<table border=\"1\" class=\"dataframe\">\n",
       "  <thead>\n",
       "    <tr style=\"text-align: right;\">\n",
       "      <th></th>\n",
       "      <th>acousticness</th>\n",
       "      <th>danceability</th>\n",
       "      <th>duration_ms</th>\n",
       "      <th>energy</th>\n",
       "      <th>instrumentalness</th>\n",
       "      <th>key</th>\n",
       "      <th>liveness</th>\n",
       "      <th>loudness</th>\n",
       "      <th>mode</th>\n",
       "      <th>speechiness</th>\n",
       "      <th>tempo</th>\n",
       "      <th>time_signature</th>\n",
       "      <th>valence</th>\n",
       "    </tr>\n",
       "  </thead>\n",
       "  <tbody>\n",
       "    <tr>\n",
       "      <th>count</th>\n",
       "      <td>93690.000000</td>\n",
       "      <td>93690.000000</td>\n",
       "      <td>9.369000e+04</td>\n",
       "      <td>93690.000000</td>\n",
       "      <td>93690.000000</td>\n",
       "      <td>93690.000000</td>\n",
       "      <td>93690.000000</td>\n",
       "      <td>93690.000000</td>\n",
       "      <td>93690.000000</td>\n",
       "      <td>93690.000000</td>\n",
       "      <td>93690.000000</td>\n",
       "      <td>93690.000000</td>\n",
       "      <td>93690.000000</td>\n",
       "    </tr>\n",
       "    <tr>\n",
       "      <th>mean</th>\n",
       "      <td>0.324905</td>\n",
       "      <td>0.586431</td>\n",
       "      <td>2.136447e+05</td>\n",
       "      <td>0.580781</td>\n",
       "      <td>0.230713</td>\n",
       "      <td>5.242758</td>\n",
       "      <td>0.192953</td>\n",
       "      <td>-9.779976</td>\n",
       "      <td>0.604141</td>\n",
       "      <td>0.112959</td>\n",
       "      <td>119.995312</td>\n",
       "      <td>3.886914</td>\n",
       "      <td>0.438479</td>\n",
       "    </tr>\n",
       "    <tr>\n",
       "      <th>std</th>\n",
       "      <td>0.334599</td>\n",
       "      <td>0.187380</td>\n",
       "      <td>1.260517e+05</td>\n",
       "      <td>0.253634</td>\n",
       "      <td>0.362988</td>\n",
       "      <td>3.605844</td>\n",
       "      <td>0.165570</td>\n",
       "      <td>6.331046</td>\n",
       "      <td>0.489037</td>\n",
       "      <td>0.125132</td>\n",
       "      <td>30.133499</td>\n",
       "      <td>0.503241</td>\n",
       "      <td>0.260862</td>\n",
       "    </tr>\n",
       "    <tr>\n",
       "      <th>min</th>\n",
       "      <td>0.000000</td>\n",
       "      <td>0.000000</td>\n",
       "      <td>3.203000e+03</td>\n",
       "      <td>0.000000</td>\n",
       "      <td>0.000000</td>\n",
       "      <td>0.000000</td>\n",
       "      <td>0.000000</td>\n",
       "      <td>-60.000000</td>\n",
       "      <td>0.000000</td>\n",
       "      <td>0.000000</td>\n",
       "      <td>0.000000</td>\n",
       "      <td>0.000000</td>\n",
       "      <td>0.000000</td>\n",
       "    </tr>\n",
       "    <tr>\n",
       "      <th>25%</th>\n",
       "      <td>0.028300</td>\n",
       "      <td>0.470000</td>\n",
       "      <td>1.662170e+05</td>\n",
       "      <td>0.415000</td>\n",
       "      <td>0.000000</td>\n",
       "      <td>2.000000</td>\n",
       "      <td>0.097200</td>\n",
       "      <td>-11.626000</td>\n",
       "      <td>0.000000</td>\n",
       "      <td>0.038800</td>\n",
       "      <td>97.000000</td>\n",
       "      <td>4.000000</td>\n",
       "      <td>0.222000</td>\n",
       "    </tr>\n",
       "    <tr>\n",
       "      <th>50%</th>\n",
       "      <td>0.188000</td>\n",
       "      <td>0.611000</td>\n",
       "      <td>2.028655e+05</td>\n",
       "      <td>0.611000</td>\n",
       "      <td>0.000214</td>\n",
       "      <td>5.000000</td>\n",
       "      <td>0.123000</td>\n",
       "      <td>-7.982000</td>\n",
       "      <td>1.000000</td>\n",
       "      <td>0.056400</td>\n",
       "      <td>120.043000</td>\n",
       "      <td>4.000000</td>\n",
       "      <td>0.419000</td>\n",
       "    </tr>\n",
       "    <tr>\n",
       "      <th>75%</th>\n",
       "      <td>0.591000</td>\n",
       "      <td>0.728000</td>\n",
       "      <td>2.410832e+05</td>\n",
       "      <td>0.781000</td>\n",
       "      <td>0.498000</td>\n",
       "      <td>8.000000</td>\n",
       "      <td>0.233000</td>\n",
       "      <td>-5.729000</td>\n",
       "      <td>1.000000</td>\n",
       "      <td>0.131000</td>\n",
       "      <td>139.914000</td>\n",
       "      <td>4.000000</td>\n",
       "      <td>0.637000</td>\n",
       "    </tr>\n",
       "    <tr>\n",
       "      <th>max</th>\n",
       "      <td>0.996000</td>\n",
       "      <td>0.996000</td>\n",
       "      <td>5.610020e+06</td>\n",
       "      <td>1.000000</td>\n",
       "      <td>1.000000</td>\n",
       "      <td>11.000000</td>\n",
       "      <td>0.996000</td>\n",
       "      <td>1.806000</td>\n",
       "      <td>1.000000</td>\n",
       "      <td>0.964000</td>\n",
       "      <td>249.983000</td>\n",
       "      <td>5.000000</td>\n",
       "      <td>1.000000</td>\n",
       "    </tr>\n",
       "  </tbody>\n",
       "</table>\n",
       "</div>"
      ],
      "text/plain": [
       "       acousticness  danceability   duration_ms        energy  \\\n",
       "count  93690.000000  93690.000000  9.369000e+04  93690.000000   \n",
       "mean       0.324905      0.586431  2.136447e+05      0.580781   \n",
       "std        0.334599      0.187380  1.260517e+05      0.253634   \n",
       "min        0.000000      0.000000  3.203000e+03      0.000000   \n",
       "25%        0.028300      0.470000  1.662170e+05      0.415000   \n",
       "50%        0.188000      0.611000  2.028655e+05      0.611000   \n",
       "75%        0.591000      0.728000  2.410832e+05      0.781000   \n",
       "max        0.996000      0.996000  5.610020e+06      1.000000   \n",
       "\n",
       "       instrumentalness           key      liveness      loudness  \\\n",
       "count      93690.000000  93690.000000  93690.000000  93690.000000   \n",
       "mean           0.230713      5.242758      0.192953     -9.779976   \n",
       "std            0.362988      3.605844      0.165570      6.331046   \n",
       "min            0.000000      0.000000      0.000000    -60.000000   \n",
       "25%            0.000000      2.000000      0.097200    -11.626000   \n",
       "50%            0.000214      5.000000      0.123000     -7.982000   \n",
       "75%            0.498000      8.000000      0.233000     -5.729000   \n",
       "max            1.000000     11.000000      0.996000      1.806000   \n",
       "\n",
       "               mode   speechiness         tempo  time_signature       valence  \n",
       "count  93690.000000  93690.000000  93690.000000    93690.000000  93690.000000  \n",
       "mean       0.604141      0.112959    119.995312        3.886914      0.438479  \n",
       "std        0.489037      0.125132     30.133499        0.503241      0.260862  \n",
       "min        0.000000      0.000000      0.000000        0.000000      0.000000  \n",
       "25%        0.000000      0.038800     97.000000        4.000000      0.222000  \n",
       "50%        1.000000      0.056400    120.043000        4.000000      0.419000  \n",
       "75%        1.000000      0.131000    139.914000        4.000000      0.637000  \n",
       "max        1.000000      0.964000    249.983000        5.000000      1.000000  "
      ]
     },
     "execution_count": 19,
     "metadata": {},
     "output_type": "execute_result"
    }
   ],
   "source": [
    "df_audio_features.describe()"
   ]
  },
  {
   "cell_type": "code",
   "execution_count": 20,
   "metadata": {},
   "outputs": [
    {
     "data": {
      "text/plain": [
       "(93690, 14)"
      ]
     },
     "execution_count": 20,
     "metadata": {},
     "output_type": "execute_result"
    }
   ],
   "source": [
    "df_audio_features.shape"
   ]
  },
  {
   "cell_type": "code",
   "execution_count": 21,
   "metadata": {},
   "outputs": [
    {
     "data": {
      "text/html": [
       "<div>\n",
       "<style scoped>\n",
       "    .dataframe tbody tr th:only-of-type {\n",
       "        vertical-align: middle;\n",
       "    }\n",
       "\n",
       "    .dataframe tbody tr th {\n",
       "        vertical-align: top;\n",
       "    }\n",
       "\n",
       "    .dataframe thead th {\n",
       "        text-align: right;\n",
       "    }\n",
       "</style>\n",
       "<table border=\"1\" class=\"dataframe\">\n",
       "  <thead>\n",
       "    <tr style=\"text-align: right;\">\n",
       "      <th></th>\n",
       "      <th>artist_name</th>\n",
       "      <th>popularity</th>\n",
       "      <th>track_id</th>\n",
       "      <th>track_name</th>\n",
       "      <th>acousticness</th>\n",
       "      <th>danceability</th>\n",
       "      <th>duration_ms</th>\n",
       "      <th>energy</th>\n",
       "      <th>instrumentalness</th>\n",
       "      <th>key</th>\n",
       "      <th>liveness</th>\n",
       "      <th>loudness</th>\n",
       "      <th>mode</th>\n",
       "      <th>speechiness</th>\n",
       "      <th>tempo</th>\n",
       "      <th>time_signature</th>\n",
       "      <th>valence</th>\n",
       "    </tr>\n",
       "  </thead>\n",
       "  <tbody>\n",
       "    <tr>\n",
       "      <th>0</th>\n",
       "      <td>Drake</td>\n",
       "      <td>97</td>\n",
       "      <td>2XW4DbS6NddZxRPm5rMCeY</td>\n",
       "      <td>God's Plan</td>\n",
       "      <td>0.02440</td>\n",
       "      <td>0.753</td>\n",
       "      <td>198960</td>\n",
       "      <td>0.454</td>\n",
       "      <td>0.000056</td>\n",
       "      <td>7</td>\n",
       "      <td>0.498</td>\n",
       "      <td>-9.488</td>\n",
       "      <td>1</td>\n",
       "      <td>0.0963</td>\n",
       "      <td>77.170</td>\n",
       "      <td>4</td>\n",
       "      <td>0.344</td>\n",
       "    </tr>\n",
       "    <tr>\n",
       "      <th>1</th>\n",
       "      <td>Drake</td>\n",
       "      <td>99</td>\n",
       "      <td>1cTZMwcBJT0Ka3UJPXOeeN</td>\n",
       "      <td>Nice For What</td>\n",
       "      <td>0.09340</td>\n",
       "      <td>0.567</td>\n",
       "      <td>210926</td>\n",
       "      <td>0.913</td>\n",
       "      <td>0.000124</td>\n",
       "      <td>8</td>\n",
       "      <td>0.114</td>\n",
       "      <td>-6.471</td>\n",
       "      <td>1</td>\n",
       "      <td>0.0736</td>\n",
       "      <td>93.350</td>\n",
       "      <td>4</td>\n",
       "      <td>0.792</td>\n",
       "    </tr>\n",
       "    <tr>\n",
       "      <th>2</th>\n",
       "      <td>Post Malone</td>\n",
       "      <td>95</td>\n",
       "      <td>65NwOZqoXny4JxqAPlfxRF</td>\n",
       "      <td>Psycho (feat. Ty Dolla $ign)</td>\n",
       "      <td>0.56600</td>\n",
       "      <td>0.740</td>\n",
       "      <td>220880</td>\n",
       "      <td>0.558</td>\n",
       "      <td>0.000000</td>\n",
       "      <td>8</td>\n",
       "      <td>0.112</td>\n",
       "      <td>-8.115</td>\n",
       "      <td>1</td>\n",
       "      <td>0.1020</td>\n",
       "      <td>140.057</td>\n",
       "      <td>4</td>\n",
       "      <td>0.421</td>\n",
       "    </tr>\n",
       "    <tr>\n",
       "      <th>3</th>\n",
       "      <td>BlocBoy JB</td>\n",
       "      <td>98</td>\n",
       "      <td>4qKcDkK6siZ7Jp1Jb4m0aL</td>\n",
       "      <td>Look Alive (feat. Drake)</td>\n",
       "      <td>0.00104</td>\n",
       "      <td>0.922</td>\n",
       "      <td>181263</td>\n",
       "      <td>0.581</td>\n",
       "      <td>0.000059</td>\n",
       "      <td>10</td>\n",
       "      <td>0.105</td>\n",
       "      <td>-7.495</td>\n",
       "      <td>1</td>\n",
       "      <td>0.2700</td>\n",
       "      <td>140.022</td>\n",
       "      <td>4</td>\n",
       "      <td>0.595</td>\n",
       "    </tr>\n",
       "    <tr>\n",
       "      <th>4</th>\n",
       "      <td>XXXTENTACION</td>\n",
       "      <td>97</td>\n",
       "      <td>3ee8Jmje8o58CHK66QrVC2</td>\n",
       "      <td>SAD!</td>\n",
       "      <td>0.25800</td>\n",
       "      <td>0.740</td>\n",
       "      <td>166606</td>\n",
       "      <td>0.613</td>\n",
       "      <td>0.003720</td>\n",
       "      <td>8</td>\n",
       "      <td>0.123</td>\n",
       "      <td>-4.880</td>\n",
       "      <td>1</td>\n",
       "      <td>0.1450</td>\n",
       "      <td>75.023</td>\n",
       "      <td>4</td>\n",
       "      <td>0.473</td>\n",
       "    </tr>\n",
       "  </tbody>\n",
       "</table>\n",
       "</div>"
      ],
      "text/plain": [
       "    artist_name  popularity                track_id  \\\n",
       "0         Drake          97  2XW4DbS6NddZxRPm5rMCeY   \n",
       "1         Drake          99  1cTZMwcBJT0Ka3UJPXOeeN   \n",
       "2   Post Malone          95  65NwOZqoXny4JxqAPlfxRF   \n",
       "3    BlocBoy JB          98  4qKcDkK6siZ7Jp1Jb4m0aL   \n",
       "4  XXXTENTACION          97  3ee8Jmje8o58CHK66QrVC2   \n",
       "\n",
       "                     track_name  acousticness  danceability  duration_ms  \\\n",
       "0                    God's Plan       0.02440         0.753       198960   \n",
       "1                 Nice For What       0.09340         0.567       210926   \n",
       "2  Psycho (feat. Ty Dolla $ign)       0.56600         0.740       220880   \n",
       "3      Look Alive (feat. Drake)       0.00104         0.922       181263   \n",
       "4                          SAD!       0.25800         0.740       166606   \n",
       "\n",
       "   energy  instrumentalness  key  liveness  loudness  mode  speechiness  \\\n",
       "0   0.454          0.000056    7     0.498    -9.488     1       0.0963   \n",
       "1   0.913          0.000124    8     0.114    -6.471     1       0.0736   \n",
       "2   0.558          0.000000    8     0.112    -8.115     1       0.1020   \n",
       "3   0.581          0.000059   10     0.105    -7.495     1       0.2700   \n",
       "4   0.613          0.003720    8     0.123    -4.880     1       0.1450   \n",
       "\n",
       "     tempo  time_signature  valence  \n",
       "0   77.170               4    0.344  \n",
       "1   93.350               4    0.792  \n",
       "2  140.057               4    0.421  \n",
       "3  140.022               4    0.595  \n",
       "4   75.023               4    0.473  "
      ]
     },
     "execution_count": 21,
     "metadata": {},
     "output_type": "execute_result"
    }
   ],
   "source": [
    "# merging both dataframes\n",
    "\n",
    "df = pd.merge(df_tracks,df_audio_features,on='track_id',how='inner')\n",
    "df.head()"
   ]
  },
  {
   "cell_type": "code",
   "execution_count": 22,
   "metadata": {},
   "outputs": [
    {
     "name": "stdout",
     "output_type": "stream",
     "text": [
      "<class 'pandas.core.frame.DataFrame'>\n",
      "Int64Index: 93690 entries, 0 to 93689\n",
      "Data columns (total 17 columns):\n",
      "artist_name         93690 non-null object\n",
      "popularity          93690 non-null int64\n",
      "track_id            93690 non-null object\n",
      "track_name          93690 non-null object\n",
      "acousticness        93690 non-null float64\n",
      "danceability        93690 non-null float64\n",
      "duration_ms         93690 non-null int64\n",
      "energy              93690 non-null float64\n",
      "instrumentalness    93690 non-null float64\n",
      "key                 93690 non-null int64\n",
      "liveness            93690 non-null float64\n",
      "loudness            93690 non-null float64\n",
      "mode                93690 non-null int64\n",
      "speechiness         93690 non-null float64\n",
      "tempo               93690 non-null float64\n",
      "time_signature      93690 non-null int64\n",
      "valence             93690 non-null float64\n",
      "dtypes: float64(9), int64(5), object(3)\n",
      "memory usage: 12.9+ MB\n"
     ]
    }
   ],
   "source": [
    "df.info()"
   ]
  },
  {
   "cell_type": "markdown",
   "metadata": {},
   "source": [
    "Just in case, checking for any duplicate tracks:"
   ]
  },
  {
   "cell_type": "code",
   "execution_count": 23,
   "metadata": {},
   "outputs": [
    {
     "data": {
      "text/html": [
       "<div>\n",
       "<style scoped>\n",
       "    .dataframe tbody tr th:only-of-type {\n",
       "        vertical-align: middle;\n",
       "    }\n",
       "\n",
       "    .dataframe tbody tr th {\n",
       "        vertical-align: top;\n",
       "    }\n",
       "\n",
       "    .dataframe thead th {\n",
       "        text-align: right;\n",
       "    }\n",
       "</style>\n",
       "<table border=\"1\" class=\"dataframe\">\n",
       "  <thead>\n",
       "    <tr style=\"text-align: right;\">\n",
       "      <th></th>\n",
       "      <th>artist_name</th>\n",
       "      <th>popularity</th>\n",
       "      <th>track_id</th>\n",
       "      <th>track_name</th>\n",
       "      <th>acousticness</th>\n",
       "      <th>danceability</th>\n",
       "      <th>duration_ms</th>\n",
       "      <th>energy</th>\n",
       "      <th>instrumentalness</th>\n",
       "      <th>key</th>\n",
       "      <th>liveness</th>\n",
       "      <th>loudness</th>\n",
       "      <th>mode</th>\n",
       "      <th>speechiness</th>\n",
       "      <th>tempo</th>\n",
       "      <th>time_signature</th>\n",
       "      <th>valence</th>\n",
       "    </tr>\n",
       "  </thead>\n",
       "  <tbody>\n",
       "  </tbody>\n",
       "</table>\n",
       "</div>"
      ],
      "text/plain": [
       "Empty DataFrame\n",
       "Columns: [artist_name, popularity, track_id, track_name, acousticness, danceability, duration_ms, energy, instrumentalness, key, liveness, loudness, mode, speechiness, tempo, time_signature, valence]\n",
       "Index: []"
      ]
     },
     "execution_count": 23,
     "metadata": {},
     "output_type": "execute_result"
    }
   ],
   "source": [
    "df[df.duplicated(subset=['artist_name','track_name'],keep=False)]"
   ]
  },
  {
   "cell_type": "markdown",
   "metadata": {},
   "source": [
    "Everything seems to be fine so I will save the dataframe as a .csv file."
   ]
  },
  {
   "cell_type": "code",
   "execution_count": 24,
   "metadata": {},
   "outputs": [],
   "source": [
    "df.to_csv('SpotifyAudioFeatures260042018')"
   ]
  }
 ],
 "metadata": {
  "kernelspec": {
   "display_name": "Python 3",
   "language": "python",
   "name": "python3"
  },
  "language_info": {
   "codemirror_mode": {
    "name": "ipython",
    "version": 3
   },
   "file_extension": ".py",
   "mimetype": "text/x-python",
   "name": "python",
   "nbconvert_exporter": "python",
   "pygments_lexer": "ipython3",
   "version": "3.5.2"
  }
 },
 "nbformat": 4,
 "nbformat_minor": 2
}
