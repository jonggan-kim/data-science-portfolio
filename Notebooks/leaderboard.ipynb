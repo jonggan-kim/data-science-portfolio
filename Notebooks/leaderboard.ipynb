{
 "cells": [
  {
   "cell_type": "markdown",
   "metadata": {},
   "source": [
    "# Leaderboard Distribution (Santander Value Prediction)\n",
    "\n",
    "The goal of this notebook is to create an interactive histogram showing the distribution of scores on the public leaderboard of the [Santander value prediction challenge](https://www.kaggle.com/c/santander-value-prediction-challenge) where the interactive part is the time (as in days until the end of the competition).\n",
    "\n",
    "Data is used from the [competition page on Kaggle](https://www.kaggle.com/c/santander-value-prediction-challenge/leaderboard)."
   ]
  },
  {
   "cell_type": "code",
   "execution_count": 1,
   "metadata": {},
   "outputs": [
    {
     "name": "stdout",
     "output_type": "stream",
     "text": [
      "Shape:  (21483, 4)\n"
     ]
    },
    {
     "data": {
      "text/html": [
       "<div>\n",
       "<style scoped>\n",
       "    .dataframe tbody tr th:only-of-type {\n",
       "        vertical-align: middle;\n",
       "    }\n",
       "\n",
       "    .dataframe tbody tr th {\n",
       "        vertical-align: top;\n",
       "    }\n",
       "\n",
       "    .dataframe thead th {\n",
       "        text-align: right;\n",
       "    }\n",
       "</style>\n",
       "<table border=\"1\" class=\"dataframe\">\n",
       "  <thead>\n",
       "    <tr style=\"text-align: right;\">\n",
       "      <th></th>\n",
       "      <th>TeamId</th>\n",
       "      <th>TeamName</th>\n",
       "      <th>SubmissionDate</th>\n",
       "      <th>Score</th>\n",
       "    </tr>\n",
       "  </thead>\n",
       "  <tbody>\n",
       "    <tr>\n",
       "      <th>0</th>\n",
       "      <td>1791654</td>\n",
       "      <td>Yuya Takagi</td>\n",
       "      <td>2018-06-18 22:45:52</td>\n",
       "      <td>2.08</td>\n",
       "    </tr>\n",
       "    <tr>\n",
       "      <th>1</th>\n",
       "      <td>1791631</td>\n",
       "      <td>Yuriy Nazarov</td>\n",
       "      <td>2018-06-18 22:53:41</td>\n",
       "      <td>1.92</td>\n",
       "    </tr>\n",
       "    <tr>\n",
       "      <th>2</th>\n",
       "      <td>1791674</td>\n",
       "      <td>JohnM</td>\n",
       "      <td>2018-06-18 23:32:47</td>\n",
       "      <td>2.09</td>\n",
       "    </tr>\n",
       "    <tr>\n",
       "      <th>3</th>\n",
       "      <td>1791674</td>\n",
       "      <td>JohnM</td>\n",
       "      <td>2018-06-18 23:40:36</td>\n",
       "      <td>1.82</td>\n",
       "    </tr>\n",
       "    <tr>\n",
       "      <th>4</th>\n",
       "      <td>1791703</td>\n",
       "      <td>Rhostam</td>\n",
       "      <td>2018-06-18 23:52:14</td>\n",
       "      <td>1.86</td>\n",
       "    </tr>\n",
       "  </tbody>\n",
       "</table>\n",
       "</div>"
      ],
      "text/plain": [
       "    TeamId       TeamName       SubmissionDate  Score\n",
       "0  1791654    Yuya Takagi  2018-06-18 22:45:52   2.08\n",
       "1  1791631  Yuriy Nazarov  2018-06-18 22:53:41   1.92\n",
       "2  1791674          JohnM  2018-06-18 23:32:47   2.09\n",
       "3  1791674          JohnM  2018-06-18 23:40:36   1.82\n",
       "4  1791703        Rhostam  2018-06-18 23:52:14   1.86"
      ]
     },
     "execution_count": 1,
     "metadata": {},
     "output_type": "execute_result"
    }
   ],
   "source": [
    "import pandas as pd\n",
    "import matplotlib.pyplot as plt\n",
    "\n",
    "import ipywidgets as widgets\n",
    "from ipywidgets import interact\n",
    "\n",
    "# read the csv file into a datframe\n",
    "df = pd.read_csv('santanderlb.csv')\n",
    "print('Shape: ', df.shape)\n",
    "df.head()"
   ]
  },
  {
   "cell_type": "code",
   "execution_count": 2,
   "metadata": {},
   "outputs": [
    {
     "name": "stdout",
     "output_type": "stream",
     "text": [
      "<class 'pandas.core.frame.DataFrame'>\n",
      "RangeIndex: 21483 entries, 0 to 21482\n",
      "Data columns (total 4 columns):\n",
      "TeamId            21483 non-null int64\n",
      "TeamName          21480 non-null object\n",
      "SubmissionDate    21483 non-null object\n",
      "Score             21483 non-null float64\n",
      "dtypes: float64(1), int64(1), object(2)\n",
      "memory usage: 671.4+ KB\n"
     ]
    }
   ],
   "source": [
    "df.info()"
   ]
  },
  {
   "cell_type": "code",
   "execution_count": 3,
   "metadata": {},
   "outputs": [
    {
     "data": {
      "text/plain": [
       "count    21483.000000\n",
       "mean         1.518039\n",
       "std          2.122953\n",
       "min          0.470000\n",
       "25%          0.750000\n",
       "50%          1.410000\n",
       "75%          1.510000\n",
       "max        196.970000\n",
       "Name: Score, dtype: float64"
      ]
     },
     "execution_count": 3,
     "metadata": {},
     "output_type": "execute_result"
    }
   ],
   "source": [
    "df['Score'].describe()"
   ]
  },
  {
   "cell_type": "code",
   "execution_count": 4,
   "metadata": {},
   "outputs": [
    {
     "name": "stdout",
     "output_type": "stream",
     "text": [
      "Shape:  (20753, 4)\n"
     ]
    }
   ],
   "source": [
    "# drop outliers\n",
    "df = df[df['Score'] < 2.5]\n",
    "print('Shape: ', df.shape)"
   ]
  },
  {
   "cell_type": "code",
   "execution_count": 5,
   "metadata": {},
   "outputs": [],
   "source": [
    "# convert to datetime\n",
    "df['SubmissionDate'] = pd.to_datetime(df['SubmissionDate'])\n",
    "\n",
    "# define the deadline date\n",
    "deadline = pd.to_datetime('2018-08-20')\n",
    "\n",
    "# create new column by subtracting the SubmissionDate from the deadline\n",
    "df['DaysUntilDeadline'] = deadline - df['SubmissionDate']\n",
    "\n",
    "# convert to days\n",
    "df['DaysUntilDeadline'] = df['DaysUntilDeadline'].dt.days"
   ]
  },
  {
   "cell_type": "code",
   "execution_count": 7,
   "metadata": {},
   "outputs": [
    {
     "data": {
      "text/html": [
       "<div>\n",
       "<style scoped>\n",
       "    .dataframe tbody tr th:only-of-type {\n",
       "        vertical-align: middle;\n",
       "    }\n",
       "\n",
       "    .dataframe tbody tr th {\n",
       "        vertical-align: top;\n",
       "    }\n",
       "\n",
       "    .dataframe thead th {\n",
       "        text-align: right;\n",
       "    }\n",
       "</style>\n",
       "<table border=\"1\" class=\"dataframe\">\n",
       "  <thead>\n",
       "    <tr style=\"text-align: right;\">\n",
       "      <th></th>\n",
       "      <th>TeamId</th>\n",
       "      <th>TeamName</th>\n",
       "      <th>SubmissionDate</th>\n",
       "      <th>Score</th>\n",
       "      <th>DaysUntilDeadline</th>\n",
       "    </tr>\n",
       "  </thead>\n",
       "  <tbody>\n",
       "    <tr>\n",
       "      <th>21478</th>\n",
       "      <td>1803914</td>\n",
       "      <td>Can you spare some change?</td>\n",
       "      <td>2018-08-17 12:18:44</td>\n",
       "      <td>1.86</td>\n",
       "      <td>2</td>\n",
       "    </tr>\n",
       "    <tr>\n",
       "      <th>21479</th>\n",
       "      <td>1932112</td>\n",
       "      <td>No train no gain</td>\n",
       "      <td>2018-08-17 12:22:17</td>\n",
       "      <td>0.50</td>\n",
       "      <td>2</td>\n",
       "    </tr>\n",
       "    <tr>\n",
       "      <th>21480</th>\n",
       "      <td>1837174</td>\n",
       "      <td>EpicDad</td>\n",
       "      <td>2018-08-17 12:28:05</td>\n",
       "      <td>0.56</td>\n",
       "      <td>2</td>\n",
       "    </tr>\n",
       "    <tr>\n",
       "      <th>21481</th>\n",
       "      <td>1797730</td>\n",
       "      <td>TrailBlazers</td>\n",
       "      <td>2018-08-17 12:32:31</td>\n",
       "      <td>0.57</td>\n",
       "      <td>2</td>\n",
       "    </tr>\n",
       "    <tr>\n",
       "      <th>21482</th>\n",
       "      <td>1892950</td>\n",
       "      <td>celestial712</td>\n",
       "      <td>2018-08-17 12:33:25</td>\n",
       "      <td>0.56</td>\n",
       "      <td>2</td>\n",
       "    </tr>\n",
       "  </tbody>\n",
       "</table>\n",
       "</div>"
      ],
      "text/plain": [
       "        TeamId                    TeamName      SubmissionDate  Score  \\\n",
       "21478  1803914  Can you spare some change? 2018-08-17 12:18:44   1.86   \n",
       "21479  1932112            No train no gain 2018-08-17 12:22:17   0.50   \n",
       "21480  1837174                     EpicDad 2018-08-17 12:28:05   0.56   \n",
       "21481  1797730                TrailBlazers 2018-08-17 12:32:31   0.57   \n",
       "21482  1892950                celestial712 2018-08-17 12:33:25   0.56   \n",
       "\n",
       "       DaysUntilDeadline  \n",
       "21478                  2  \n",
       "21479                  2  \n",
       "21480                  2  \n",
       "21481                  2  \n",
       "21482                  2  "
      ]
     },
     "execution_count": 7,
     "metadata": {},
     "output_type": "execute_result"
    }
   ],
   "source": [
    "# check the df\n",
    "df.tail()"
   ]
  },
  {
   "cell_type": "code",
   "execution_count": 8,
   "metadata": {},
   "outputs": [
    {
     "data": {
      "application/vnd.jupyter.widget-view+json": {
       "model_id": "aefbe755c7bc49c6a6dea048ba473368",
       "version_major": 2,
       "version_minor": 0
      },
      "text/plain": [
       "interactive(children=(IntSlider(value=10, description='x', max=63), Output()), _dom_classes=('widget-interact'…"
      ]
     },
     "metadata": {},
     "output_type": "display_data"
    },
    {
     "data": {
      "text/plain": [
       "<function __main__.f(x)>"
      ]
     },
     "execution_count": 8,
     "metadata": {},
     "output_type": "execute_result"
    }
   ],
   "source": [
    "x = 0\n",
    "\n",
    "def f(x):\n",
    "    df['Score'][df['DaysUntilDeadline'] > x].hist(bins='scott', figsize=(15,10))\n",
    "    plt.show()\n",
    "\n",
    "interact(f, x=widgets.IntSlider(min=0,max=63,step=1,value=10))"
   ]
  },
  {
   "cell_type": "code",
   "execution_count": null,
   "metadata": {},
   "outputs": [],
   "source": []
  },
  {
   "cell_type": "code",
   "execution_count": null,
   "metadata": {},
   "outputs": [],
   "source": []
  }
 ],
 "metadata": {
  "kernelspec": {
   "display_name": "Python 3",
   "language": "python",
   "name": "python3"
  },
  "language_info": {
   "codemirror_mode": {
    "name": "ipython",
    "version": 3
   },
   "file_extension": ".py",
   "mimetype": "text/x-python",
   "name": "python",
   "nbconvert_exporter": "python",
   "pygments_lexer": "ipython3",
   "version": "3.7.0"
  }
 },
 "nbformat": 4,
 "nbformat_minor": 2
}
